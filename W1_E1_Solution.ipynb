{
  "nbformat": 4,
  "nbformat_minor": 0,
  "metadata": {
    "colab": {
      "provenance": [],
      "gpuType": "T4",
      "authorship_tag": "ABX9TyMvMgiagjppYcI6kX6hfJ9o",
      "include_colab_link": true
    },
    "kernelspec": {
      "name": "python3",
      "display_name": "Python 3"
    },
    "language_info": {
      "name": "python"
    },
    "accelerator": "GPU"
  },
  "cells": [
    {
      "cell_type": "markdown",
      "metadata": {
        "id": "view-in-github",
        "colab_type": "text"
      },
      "source": [
        "<a href=\"https://colab.research.google.com/github/arbinydv/Machine-Learning/blob/main/W1_E1_Solution.ipynb\" target=\"_parent\"><img src=\"https://colab.research.google.com/assets/colab-badge.svg\" alt=\"Open In Colab\"/></a>"
      ]
    },
    {
      "cell_type": "code",
      "execution_count": null,
      "metadata": {
        "id": "raUv4qM0b6Fj"
      },
      "outputs": [],
      "source": []
    },
    {
      "cell_type": "code",
      "source": [
        "\n"
      ],
      "metadata": {
        "id": "mSFJIxb9cPFR"
      },
      "execution_count": 21,
      "outputs": []
    },
    {
      "cell_type": "code",
      "source": [
        "# GPU Computing Exercise 1 Solutions"
      ],
      "metadata": {
        "id": "SYZb4H8xcXy0"
      },
      "execution_count": 22,
      "outputs": []
    },
    {
      "cell_type": "code",
      "source": [
        "import cupy as cp\n",
        "import numpy as np"
      ],
      "metadata": {
        "id": "tTWbdEQQeOlU"
      },
      "execution_count": 23,
      "outputs": []
    },
    {
      "cell_type": "code",
      "source": [
        "# Task 1 Practice\n",
        "\n",
        "thread_idx_kernel = cp.RawKernel(r'''\n",
        "extern \"C\" __global__\n",
        "void thread_idx(float* out)\n",
        "{\n",
        "  int indx = blockIdx.x * blockDim.x + threadIdx.x;\n",
        "    out[indx] = indx;\n",
        "}\n",
        "''', 'thread_idx')\n",
        "\n",
        "# assign the vector\n",
        "\n",
        "vector_sz= 1000\n",
        "output = cp.zeros(vector_sz, dtype=cp.float32)\n",
        "\n",
        "thread_pr_blk = 256\n",
        "blocks_per_grid = (vector_sz + thread_pr_blk - 1) // thread_pr_blk\n",
        "\n",
        "thread_idx_kernel((blocks_per_grid, 1, 1), (thread_pr_blk, 1, 1), output)\n",
        "\n",
        "print(\"THe output of first 20 elements is:\", output[:20].get())\n"
      ],
      "metadata": {
        "colab": {
          "base_uri": "https://localhost:8080/"
        },
        "id": "i8rSm6Lbefa7",
        "outputId": "b1fc30f6-6212-480d-abae-069d3766ede1"
      },
      "execution_count": 31,
      "outputs": [
        {
          "output_type": "stream",
          "name": "stdout",
          "text": [
            "THe output of first 20 elements is: [ 0.  1.  2.  3.  4.  5.  6.  7.  8.  9. 10. 11. 12. 13. 14. 15. 16. 17.\n",
            " 18. 19.]\n"
          ]
        }
      ]
    },
    {
      "cell_type": "code",
      "source": [
        "# TASK 2 ==> A kernel which takes two vectors A and B and adds them together to form a vector C.\n",
        "\n",
        "vector_adder_kernel = cp.RawKernel(r'''\n",
        "extern \"C\" __global__\n",
        "void vector_adder(float* A, float* B, float* C, int vector_size)\n",
        "{\n",
        "  int indx = blockIdx.x * blockDim.x + threadIdx.x;\n",
        "\n",
        "  if (indx < vector_size)\n",
        "  {\n",
        "    C[indx] = A[indx] + B[indx];\n",
        "  }\n",
        "}\n",
        "''', 'vector_adder')\n",
        "\n",
        "\n",
        "# vector initialization\n",
        "vector_sz = 50\n",
        "A = cp.zeros(vector_sz, dtype=cp.float32)\n",
        "B = cp.random.rand(vector_sz, dtype=cp.float32)\n",
        "C = cp.zeros(vector_sz, dtype=cp.float32)\n",
        "\n",
        "# Kernel Call\n",
        "\n",
        "threads_per_block = 256\n",
        "blocks_per_grid = (vector_sz + threads_per_block - 1) // threads_per_block\n",
        "\n",
        "vector_adder_kernel((blocks_per_grid, 1, 1), (threads_per_block, 1, 1), (A, B, C, np.int32(vector_sz)))\n",
        "\n",
        "# Display\n",
        "print(C)\n",
        "\n",
        "# Validates the addition\n",
        "print(\"Validating C = A+B ==>\", np.allclose(C, A + B))\n"
      ],
      "metadata": {
        "colab": {
          "base_uri": "https://localhost:8080/"
        },
        "id": "JgBgyf0JfnhJ",
        "outputId": "6847f92d-8395-4724-be7b-b54f1d9ff544"
      },
      "execution_count": 30,
      "outputs": [
        {
          "output_type": "stream",
          "name": "stdout",
          "text": [
            "[0.06040776 0.3298758  0.85877097 0.37285647 0.797116   0.85741156\n",
            " 0.39641282 0.90738106 0.3240584  0.60581505 0.2186684  0.10242421\n",
            " 0.8267793  0.07266703 0.09956244 0.270448   0.64732814 0.30453515\n",
            " 0.97300786 0.82268745 0.49947056 0.2756813  0.15297419 0.55198836\n",
            " 0.02170919 0.4193786  0.82551163 0.42315635 0.60463315 0.46792215\n",
            " 0.6431096  0.6963408  0.9305247  0.10266901 0.46572918 0.1203765\n",
            " 0.6100591  0.6488709  0.3160373  0.3352976  0.7026568  0.40861544\n",
            " 0.38604563 0.35752347 0.3481771  0.03127746 0.50698954 0.77525926\n",
            " 0.08266708 0.9194981 ]\n",
            "Validating C = A+B ==> True\n"
          ]
        }
      ]
    },
    {
      "cell_type": "code",
      "source": [
        "# Task 3: Vector Add + Multiply\n",
        "\n",
        "vector_add_mult_kernel= cp.RawKernel(r'''\n",
        "extern \"C\" __global__\n",
        "void vector_add_mult(int* A, int* B, int* C, int* D, int vector_size)\n",
        "{\n",
        "  int index = blockIdx.x * blockDim.x + threadIdx.x;\n",
        "\n",
        "  if (index < vector_size)\n",
        "  {\n",
        "    float temp = A[index] + B[index];\n",
        "    D[index] = temp * C[index];\n",
        "  }\n",
        "}\n",
        "''', 'vector_add_mult')\n",
        "\n",
        "# Initialization\n",
        "\n",
        "vector_sz = 10\n",
        "A = cp.random.randint(0,100,vector_sz, dtype=cp.int32)\n",
        "B = cp.random.randint(0,100,vector_sz, dtype=cp.int32)\n",
        "C = cp.random.randint(0,100, vector_sz, dtype=cp.int32)\n",
        "D = cp.zeros(vector_sz, dtype=cp.int32)\n",
        "\n",
        "# populate vector\n",
        "\n",
        "thread_per_block = 256\n",
        "blocks_per_grid = (vector_sz + thread_per_block - 1) // thread_per_block\n",
        "\n",
        "# calls the kernel\n",
        "vector_add_mult_kernel((blocks_per_grid, 1, 1), (thread_per_block, 1, 1), (A, B, C, D, vector_sz))\n",
        "\n",
        "# Display\n",
        "\n",
        "print(\"Vector A: \", A)\n",
        "print(\"Vector B: \", B)\n",
        "print(\"Vector C: \", C)\n",
        "print(\"Vector D: \", D)\n",
        "\n",
        "print(\"add\",(A+B))\n",
        "print(\"mul\",(A+B)*C)\n",
        "\n",
        "# validates if the addition and multiplication true\n",
        "print(\"Validating D = (A+B)*C ==> \", np.allclose(D, ( (A + B) * C)))\n"
      ],
      "metadata": {
        "colab": {
          "base_uri": "https://localhost:8080/"
        },
        "id": "Vtk0fOtVhQwb",
        "outputId": "c6049c31-5d9e-44d0-a271-24980f1c9aa1"
      },
      "execution_count": 29,
      "outputs": [
        {
          "output_type": "stream",
          "name": "stdout",
          "text": [
            "Vector A:  [72 89 41 51 20 82 36 18 30  3]\n",
            "Vector B:  [90 85 25 28 77 67 19 30 75 21]\n",
            "Vector C:  [89  6 81 28 35  9 60 91 77 64]\n",
            "Vector D:  [14418  1044  5346  2212  3395  1341  3300  4368  8085  1536]\n",
            "add [162 174  66  79  97 149  55  48 105  24]\n",
            "mul [14418  1044  5346  2212  3395  1341  3300  4368  8085  1536]\n",
            "Validating D = (A+B)*C ==>  True\n"
          ]
        }
      ]
    },
    {
      "cell_type": "code",
      "source": [],
      "metadata": {
        "id": "ZBweFVtqk9Xb"
      },
      "execution_count": null,
      "outputs": []
    }
  ]
}